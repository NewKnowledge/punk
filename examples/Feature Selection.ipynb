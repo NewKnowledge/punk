{
 "cells": [
  {
   "cell_type": "markdown",
   "metadata": {},
   "source": [
    "The goal of `punk` is to make available sime wrappers for a variety of machine learning pipelines.\n",
    "\n",
    "The pipelines are termed `primitves` and each primitive is designed with a functional programming approach in mind.\n",
    "\n",
    "At the time of this writing, `punk` is being periodically updated. Any new primitives will be realesed as a pip-installable python package every friday along with their corresponding annotations files for the broader D3M community.\n",
    "\n",
    "Here we will briefly show how the primitives in the punk package can be utilized."
   ]
  },
  {
   "cell_type": "code",
   "execution_count": 1,
   "metadata": {
    "collapsed": false,
    "scrolled": false
   },
   "outputs": [
    {
     "name": "stdout",
     "output_type": "stream",
     "text": [
      "Help on package punk:\n",
      "\n",
      "NAME\n",
      "    punk\n",
      "\n",
      "PACKAGE CONTENTS\n",
      "    base\n",
      "    feature_selection (package)\n",
      "    novelty_detection (package)\n",
      "\n",
      "DATA\n",
      "    __all__ = ['feature_selection', 'novelty_detection']\n",
      "\n",
      "VERSION\n",
      "    1.0.0\n",
      "\n",
      "FILE\n",
      "    /home/alarcj/Documents/datasci/NewKnowledge/primitives_repo/CODE/examples/punk/__init__.py\n",
      "\n",
      "\n"
     ]
    }
   ],
   "source": [
    "import punk\n",
    "help(punk)"
   ]
  },
  {
   "cell_type": "code",
   "execution_count": 3,
   "metadata": {
    "collapsed": false
   },
   "outputs": [],
   "source": [
    "%matplotlib inline\n",
    "import matplotlib.pyplot as plt\n",
    "import pandas as pd\n",
    "import numpy as np\n",
    "\n",
    "from sklearn import datasets\n",
    "from sklearn.preprocessing import StandardScaler                                \n",
    "from sklearn.model_selection import train_test_split\n",
    "\n",
    "from punk import feature_selection"
   ]
  },
  {
   "cell_type": "markdown",
   "metadata": {},
   "source": [
    "# Feature Selection\n",
    "\n",
    "## Feature Selection for Classification Problems\n",
    "\n",
    "The `rfclassifier_feature_selection` primitive takes in a dataset (training data along with labels) to output a ranking of features as shown below:"
   ]
  },
  {
   "cell_type": "code",
   "execution_count": 4,
   "metadata": {
    "collapsed": false
   },
   "outputs": [],
   "source": [
    "# Wine dataset\n",
    "df_wine = pd.read_csv('https://raw.githubusercontent.com/rasbt/'\n",
    "                      'python-machine-learning-book/master/code/datasets/wine/wine.data', \n",
    "                      header=None)    \n",
    "columns = np.array(['Alcohol', 'Malic acid', 'Ash',\n",
    "                    'Alcalinity of ash', 'Magnesium', 'Total phenols',\n",
    "                    'Flavanoids', 'Nonflavanoid phenols', 'Proanthocyanins',\n",
    "                    'Color intensity', 'Hue', 'OD280/OD315 of diluted wines',\n",
    "                    'Proline'])\n",
    "# Split dataset \n",
    "X, y = df_wine.iloc[:, 1:].values, df_wine.iloc[:, 0].values            \n",
    "X, _, y, _ = train_test_split(X, y, test_size=0.3, random_state=0)"
   ]
  },
  {
   "cell_type": "code",
   "execution_count": 5,
   "metadata": {
    "collapsed": false
   },
   "outputs": [
    {
     "name": "stdout",
     "output_type": "stream",
     "text": [
      "CPU times: user 38.5 s, sys: 80 ms, total: 38.6 s\n",
      "Wall time: 38.7 s\n"
     ]
    }
   ],
   "source": [
    "%%time\n",
    "\n",
    "# Run primitive\n",
    "rfc = feature_selection.RFFeatures(problem_type=\"classification\", \n",
    "                                   cv=3, scoring=\"accuracy\", verbose=0, n_jobs=1)\n",
    "rfc.fit((\"matrix\", \"matrix\"), (X, y))"
   ]
  },
  {
   "cell_type": "code",
   "execution_count": 6,
   "metadata": {
    "collapsed": false
   },
   "outputs": [
    {
     "name": "stdout",
     "output_type": "stream",
     "text": [
      " 1)        Color intensity         0.17600\n",
      " 2)            Proline             0.16426\n",
      " 3)           Flavanoids           0.14943\n",
      " 4)  OD280/OD315 of diluted wines  0.14081\n",
      " 5)            Alcohol             0.10759\n",
      " 6)              Hue               0.07522\n",
      " 7)         Total phenols          0.05475\n",
      " 8)       Alcalinity of ash        0.03159\n",
      " 9)           Malic acid           0.02552\n",
      "10)        Proanthocyanins         0.02376\n",
      "11)           Magnesium            0.02217\n",
      "12)      Nonflavanoid phenols      0.01659\n",
      "13)              Ash               0.01231\n"
     ]
    },
    {
     "data": {
      "image/png": "[encoded data removed]",
      "text/plain": [
       "<matplotlib.figure.Figure at 0x7f8efbae3b00>"
      ]
     },
     "metadata": {},
     "output_type": "display_data"
    }
   ],
   "source": [
    "feature_importances = rfc.feature_importances\n",
    "feature_indices = rfc.indices\n",
    "\n",
    "for i in range(len(columns)):\n",
    "    print(\"{:>2}) {:^30} {:.5f}\".format(i+1, \n",
    "                                        columns[feature_indices[i]],\n",
    "                                        feature_importances[feature_indices[i]]\n",
    "                                       ))\n",
    "    \n",
    "plt.figure(figsize=(9, 5))\n",
    "plt.title('Feature Importances')\n",
    "plt.bar(range(len(columns)), feature_importances[feature_indices], color='lightblue', align='center')\n",
    "\n",
    "plt.xticks(range(len(columns)), columns[feature_indices], rotation=90, fontsize=14)\n",
    "plt.xlim([-1, len(columns)])\n",
    "plt.tight_layout()\n",
    "plt.savefig('./random_forest.png', dpi=300)\n",
    "plt.show()"
   ]
  },
  {
   "cell_type": "markdown",
   "metadata": {},
   "source": [
    "## Feature Selection for Regression Problems\n",
    "\n",
    "Similarly, `rfregressor_feature_selection` can be used for regression type problems:"
   ]
  },
  {
   "cell_type": "code",
   "execution_count": 7,
   "metadata": {
    "collapsed": false
   },
   "outputs": [],
   "source": [
    "# Get boston dataset\n",
    "boston = datasets.load_boston()\n",
    "X, y = boston.data, boston.target"
   ]
  },
  {
   "cell_type": "code",
   "execution_count": 11,
   "metadata": {
    "collapsed": false
   },
   "outputs": [
    {
     "name": "stdout",
     "output_type": "stream",
     "text": [
      "CPU times: user 1min 40s, sys: 28 ms, total: 1min 40s\n",
      "Wall time: 1min 40s\n"
     ]
    }
   ],
   "source": [
    "%%time\n",
    "\n",
    "# Run primitive\n",
    "rfr = feature_selection.RFFeatures(problem_type=\"regression\", \n",
    "                                   cv=3, scoring=\"r2\", verbose=0, n_jobs=1)\n",
    "rfr.fit((\"matrix\", \"matrix\"), (X, y))"
   ]
  },
  {
   "cell_type": "code",
   "execution_count": 14,
   "metadata": {
    "collapsed": false
   },
   "outputs": [
    {
     "name": "stdout",
     "output_type": "stream",
     "text": [
      " 1)       RM        0.43219\n",
      " 2)      LSTAT      0.37294\n",
      " 3)       DIS       0.06685\n",
      " 4)      CRIM       0.03685\n",
      " 5)       NOX       0.02356\n",
      " 6)     PTRATIO     0.01672\n",
      " 7)       TAX       0.01437\n",
      " 8)       AGE       0.01310\n",
      " 9)        B        0.01174\n",
      "10)      INDUS      0.00596\n",
      "11)       RAD       0.00383\n",
      "12)       ZN        0.00102\n",
      "13)      CHAS       0.00087\n"
     ]
    },
    {
     "data": {
      "image/png": "[encoded data removed]",
      "text/plain": [
       "<matplotlib.figure.Figure at 0x7f8efbae3f28>"
      ]
     },
     "metadata": {},
     "output_type": "display_data"
    }
   ],
   "source": [
    "feature_importances = rfr.feature_importances\n",
    "feature_indices = rfr.indices\n",
    "\n",
    "columns = boston.feature_names\n",
    "for i in range(len(columns)):\n",
    "    print(\"{:>2}) {:^15} {:.5f}\".format(i+1, \n",
    "                                        columns[feature_indices[i]],\n",
    "                                        feature_importances[feature_indices[i]]\n",
    "                                       ))\n",
    "    \n",
    "plt.figure(figsize=(9, 5))\n",
    "plt.title('Feature Importances')\n",
    "plt.bar(range(len(columns)), feature_importances[feature_indices], color='lightblue', align='center')\n",
    "\n",
    "plt.xticks(range(len(columns)), columns[feature_indices], rotation=90, fontsize=14)\n",
    "plt.xlim([-1, len(columns)])\n",
    "plt.tight_layout()\n",
    "plt.savefig('./random_forest.png', dpi=300)\n",
    "plt.show()"
   ]
  },
  {
   "cell_type": "markdown",
   "metadata": {},
   "source": [
    "To provide some context, below we show the correlation coefficients between some of the features in the boston dataset.\n",
    "\n",
    "Notice how the two features that were ranked the most important by our primitve are also the two features with the highest correlation coefficient (in absolute value) with the dependent variable `MEDV`.\n",
    "\n",
    "This figure was taken from [python machine learning book](https://github.com/rasbt/python-machine-learning-book/blob/master/code/ch10/ch10.ipynb)."
   ]
  },
  {
   "cell_type": "code",
   "execution_count": 15,
   "metadata": {
    "collapsed": false
   },
   "outputs": [
    {
     "data": {
      "image/png": "[encoded data removed]",
      "text/plain": [
       "<matplotlib.figure.Figure at 0x7f8ef76af240>"
      ]
     },
     "metadata": {},
     "output_type": "display_data"
    }
   ],
   "source": [
    "import matplotlib.image as mpimg\n",
    "\n",
    "img=mpimg.imread(\"heatmap.png\")\n",
    "plt.figure(figsize=(10, 10))\n",
    "plt.axis(\"off\")\n",
    "plt.imshow(img);"
   ]
  },
  {
   "cell_type": "markdown",
   "metadata": {},
   "source": [
    "## Ranking Features by their Contributions to Principal \n",
    "\n",
    "`pca_feature_selection` does a feature ranking based on the contributions each feature has to each of the principal components and by their contributions to the first principal component."
   ]
  },
  {
   "cell_type": "code",
   "execution_count": 4,
   "metadata": {
    "collapsed": false
   },
   "outputs": [],
   "source": [
    "# Get iris dataset\n",
    "iris = datasets.load_iris()\n",
    "sc = StandardScaler()\n",
    "X = sc.fit_transform(iris.data)"
   ]
  },
  {
   "cell_type": "code",
   "execution_count": 5,
   "metadata": {
    "collapsed": false
   },
   "outputs": [
    {
     "data": {
      "text/plain": [
       "<punk.feature_selection.pca.PCAFeatures at 0x7fb6b46d57f0>"
      ]
     },
     "execution_count": 5,
     "metadata": {},
     "output_type": "execute_result"
    }
   ],
   "source": [
    "# run primitive\n",
    "iris_ranking = feature_selection.PCAFeatures()\n",
    "iris_ranking.fit([\"matrix\"], X)"
   ]
  },
  {
   "cell_type": "code",
   "execution_count": 19,
   "metadata": {
    "collapsed": false
   },
   "outputs": [
    {
     "name": "stdout",
     "output_type": "stream",
     "text": [
      "['sepal length (cm)' 'sepal width (cm)' 'petal length (cm)'\n",
      " 'petal width (cm)'] \n",
      "\n",
      " 1)  petal length (cm) \n",
      " 2)  sepal width (cm)  \n",
      " 3)  sepal length (cm) \n",
      " 4)  petal length (cm) \n"
     ]
    }
   ],
   "source": [
    "feature_names = np.array(iris.feature_names)\n",
    "\n",
    "print(feature_names, '\\n')\n",
    "for i in range(iris_ranking.importance_onallpcs.shape[0]):\n",
    "    print(\"{:>2}) {:^19}\".format(i+1, feature_names[iris_ranking.importance_onallpcs[i]]))"
   ]
  },
  {
   "cell_type": "code",
   "execution_count": 23,
   "metadata": {
    "collapsed": false
   },
   "outputs": [
    {
     "data": {
      "image/png": "[encoded data removed]",
      "text/plain": [
       "<matplotlib.figure.Figure at 0x7f8efb9b8940>"
      ]
     },
     "metadata": {},
     "output_type": "display_data"
    }
   ],
   "source": [
    "plt.figure(figsize=(9, 5))\n",
    "plt.bar(range(1, 5), iris_ranking.explained_variance_ratio_, alpha=0.5, align='center')\n",
    "plt.step(range(1, 5), np.cumsum(iris_ranking.explained_variance_ratio_), where='mid')\n",
    "plt.ylabel('Explained variance ratio')\n",
    "plt.xlabel('Principal components')\n",
    "plt.xticks([1, 2, 3, 4])\n",
    "plt.show()"
   ]
  },
  {
   "cell_type": "code",
   "execution_count": null,
   "metadata": {
    "collapsed": true
   },
   "outputs": [],
   "source": []
  }
 ],
 "metadata": {
  "kernelspec": {
   "display_name": "Python 3",
   "language": "python",
   "name": "python3"
  },
  "language_info": {
   "codemirror_mode": {
    "name": "ipython",
    "version": 3
   },
   "file_extension": ".py",
   "mimetype": "text/x-python",
   "name": "python",
   "nbconvert_exporter": "python",
   "pygments_lexer": "ipython3",
   "version": "3.6.1"
  }
 },
 "nbformat": 4,
 "nbformat_minor": 2
}
