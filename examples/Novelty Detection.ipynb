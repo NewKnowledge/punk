{
 "cells": [
  {
   "cell_type": "markdown",
   "metadata": {},
   "source": [
    "The goal os `punk` is to make available sime wrappers for a variety of machine learning pipelines.\n",
    "\n",
    "The pipelines are termed `primitves` and each primitive is designed with a functional programming approach in mind.\n",
    "\n",
    "At the time of this writing, `punk` is being periodically updated. Any new primitives will be realesed as a pip-installable python package every friday along with their corresponding annotations files for the broader D3M community.\n",
    "\n",
    "Here we will briefly show how the primitives in the punk package can be utilized."
   ]
  },
  {
   "cell_type": "code",
   "execution_count": 1,
   "metadata": {
    "collapsed": false,
    "scrolled": false
   },
   "outputs": [
    {
     "name": "stdout",
     "output_type": "stream",
     "text": [
      "Help on package punk:\n",
      "\n",
      "NAME\n",
      "    punk\n",
      "\n",
      "PACKAGE CONTENTS\n",
      "    base\n",
      "    feature_selection (package)\n",
      "    novelty_detection (package)\n",
      "    utils (package)\n",
      "\n",
      "DATA\n",
      "    __all__ = ['feature_selection', 'novelty_detection', 'utils']\n",
      "\n",
      "VERSION\n",
      "    1.0.0\n",
      "\n",
      "FILE\n",
      "    /home/alarcj/Documents/datasci/NewKnowledge/primitives_repo/CODE/examples/punk/__init__.py\n",
      "\n",
      "\n"
     ]
    }
   ],
   "source": [
    "import punk\n",
    "help(punk)"
   ]
  },
  {
   "cell_type": "markdown",
   "metadata": {},
   "source": [
    "# Novelty Detection - Dataset Summarization\n",
    "\n",
    "## Testing Heteroscedasticity\n",
    "\n",
    "An interesting set we can do on our datasets is a test for Heteroscedasticity which may be able to tell us whether there are some subpopulations in our dataset (latent variables), sampling bias, or something of the sort. Future primitives will aid on this task."
   ]
  },
  {
   "cell_type": "code",
   "execution_count": 2,
   "metadata": {
    "collapsed": false
   },
   "outputs": [],
   "source": [
    "%matplotlib inline\n",
    "import numpy as np\n",
    "from scipy import linalg\n",
    "import matplotlib.pyplot as plt\n",
    "\n",
    "from punk import novelty_detection"
   ]
  },
  {
   "cell_type": "code",
   "execution_count": 3,
   "metadata": {
    "collapsed": false
   },
   "outputs": [],
   "source": [
    "# Make some data up\n",
    "n_samples, n_features, rank = 1000, 50, 10\n",
    "sigma = 1.\n",
    "rng = np.random.RandomState(42)\n",
    "U, _, _ = linalg.svd(rng.randn(n_features, n_features))\n",
    "X = np.dot(rng.randn(n_samples, rank), U[:, :rank].T)\n",
    "\n",
    "# Adding homoscedastic noise\n",
    "X_homo = X + sigma * rng.randn(n_samples, n_features)\n",
    "\n",
    "# Adding heteroscedastic noise\n",
    "sigmas = sigma * rng.rand(n_features) + sigma / 2.\n",
    "X_hetero = X + rng.randn(n_samples, n_features) * sigmas"
   ]
  },
  {
   "cell_type": "code",
   "execution_count": 4,
   "metadata": {
    "collapsed": false
   },
   "outputs": [
    {
     "name": "stdout",
     "output_type": "stream",
     "text": [
      "CPU times: user 9.16 s, sys: 11.5 s, total: 20.7 s\n",
      "Wall time: 6 s\n"
     ]
    }
   ],
   "source": [
    "%%time\n",
    "\n",
    "# run the primitive against a dataset with homocedatic noise \n",
    "test_homo = novelty_detection.HeteroscedasticityTest(max_iter=1000, tol=0.01)                \n",
    "test_homo = test_homo.fit(\"matrix\", X_homo)"
   ]
  },
  {
   "cell_type": "code",
   "execution_count": 5,
   "metadata": {
    "collapsed": false
   },
   "outputs": [
    {
     "name": "stdout",
     "output_type": "stream",
     "text": [
      "CPU times: user 8.43 s, sys: 9.96 s, total: 18.4 s\n",
      "Wall time: 5 s\n"
     ]
    }
   ],
   "source": [
    "%%time\n",
    "\n",
    "# run the primitive against a dataset with homocedatic noise \n",
    "test_hetero = novelty_detection.HeteroscedasticityTest(max_iter=1000, tol=0.01)                \n",
    "test_hetero = test_hetero.fit(\"matrix\", X_hetero)"
   ]
  },
  {
   "cell_type": "markdown",
   "metadata": {},
   "source": [
    "Notice that for Homoscedastic noise the difference between PCA and FactorAnalysis is relatively small and both are able to pick out a lower-rank principal subspace of dimensioanlity 10.\n",
    "\n",
    "In the case of Nonisotropic noise FactorAnalysis does better than PCA and is able to get a much lower-rank subspace than PCA - 10 versus 40 dimensions."
   ]
  },
  {
   "cell_type": "code",
   "execution_count": 6,
   "metadata": {
    "collapsed": false
   },
   "outputs": [
    {
     "name": "stdout",
     "output_type": "stream",
     "text": [
      "(-74.953690343714229, 10) (-75.029704299751259, 10)\n",
      "(-77.65986584714085, 40) (-76.948541495525788, 10)\n"
     ]
    }
   ],
   "source": [
    "print(test_homo.pca, test_homo.fa)\n",
    "print(test_hetero.pca, test_hetero.fa)"
   ]
  },
  {
   "cell_type": "markdown",
   "metadata": {},
   "source": [
    "### Compute Scores"
   ]
  },
  {
   "cell_type": "markdown",
   "metadata": {},
   "source": [
    "The primitive `test_heteroscedasticity` is a wrapper for the function `compute_scores`. \n",
    "More details on this can be seen in [Model selection with Probabilistic PCA and FA](http://scikit-learn.org/stable/auto_examples/decomposition/plot_pca_vs_fa_model_selection.html)."
   ]
  },
  {
   "cell_type": "code",
   "execution_count": 7,
   "metadata": {
    "collapsed": false
   },
   "outputs": [],
   "source": [
    "scores = novelty_detection.HeteroscedasticityTest(max_iter=1000, tol=0.01)  "
   ]
  },
  {
   "cell_type": "code",
   "execution_count": 8,
   "metadata": {
    "collapsed": false
   },
   "outputs": [
    {
     "name": "stdout",
     "output_type": "stream",
     "text": [
      "CPU times: user 28min 42s, sys: 39min 36s, total: 1h 8min 19s\n",
      "Wall time: 20min 23s\n"
     ]
    }
   ],
   "source": [
    "%%time\n",
    "pca_scores_ho, fa_scores_ho = scores.compute_scores(X_homo)"
   ]
  },
  {
   "cell_type": "code",
   "execution_count": 10,
   "metadata": {
    "collapsed": false
   },
   "outputs": [
    {
     "name": "stdout",
     "output_type": "stream",
     "text": [
      "CPU times: user 27min 34s, sys: 40min 43s, total: 1h 8min 18s\n",
      "Wall time: 20min 41s\n"
     ]
    }
   ],
   "source": [
    "%%time\n",
    "pca_scores_he, fa_scores_he = scores.compute_scores(X_hetero)"
   ]
  },
  {
   "cell_type": "code",
   "execution_count": 30,
   "metadata": {
    "collapsed": true
   },
   "outputs": [],
   "source": [
    "pca_scores_ho, fa_scores_ho = novelty_detection.compute_scores(X_homo, max_iter=1000, tol=0.01)\n",
    "pca_scores_he, fa_scores_he = novelty_detection.compute_scores(X_hetero, max_iter=1000, tol=0.01)"
   ]
  },
  {
   "cell_type": "code",
   "execution_count": 12,
   "metadata": {
    "collapsed": false,
    "scrolled": true
   },
   "outputs": [
    {
     "data": {
      "image/png": "[encoded data removed]",
      "text/plain": [
       "<matplotlib.figure.Figure at 0x7fadbfbfb518>"
      ]
     },
     "metadata": {},
     "output_type": "display_data"
    }
   ],
   "source": [
    "plt.plot([x for y, x in pca_scores_ho], [y for y, x in pca_scores_ho], 'b', label='PCA scores')\n",
    "plt.plot([x for y, x in fa_scores_ho], [y for y, x in fa_scores_ho], 'r', label='FA scores')\n",
    "plt.axvline(rank, color='g', label='TRUTH: %d' % rank, linestyle='-')\n",
    "plt.axvline(test_homo.pca[1], color='b', label='PCA CV: %d' %test_homo.pca[1] , linestyle='--')\n",
    "plt.axvline(test_homo.fa[1], color='r', label='FactorAnalysis CV: %d' % test_homo.fa[1], linestyle='--')\n",
    "\n",
    "plt.xlabel(\"# of components\")\n",
    "plt.ylabel(\"CV scores\")\n",
    "plt.legend(loc=\"best\")\n",
    "plt.title(\"Homoscedastic Noise\");"
   ]
  },
  {
   "cell_type": "code",
   "execution_count": 13,
   "metadata": {
    "collapsed": false
   },
   "outputs": [
    {
     "data": {
      "image/png": "[encoded data removed]",
      "text/plain": [
       "<matplotlib.figure.Figure at 0x7fadbfc3b630>"
      ]
     },
     "metadata": {},
     "output_type": "display_data"
    }
   ],
   "source": [
    "plt.plot([x for y, x in pca_scores_he], [y for y, x in pca_scores_he], 'b', label='PCA scores')\n",
    "plt.plot([x for y, x in fa_scores_he], [y for y, x in fa_scores_he], 'r', label='FA scores')\n",
    "plt.axvline(rank, color='g', label='TRUTH: %d' % rank, linestyle='-')\n",
    "plt.axvline(test_hetero.pca[1], color='b', label='PCA CV: %d' %test_hetero.pca[1] , linestyle='--')\n",
    "plt.axvline(test_hetero.fa[1], color='r', label='FactorAnalysis CV: %d'%test_hetero.fa[1], linestyle='--')\n",
    "\n",
    "plt.xlabel(\"# of components\")\n",
    "plt.ylabel(\"CV scores\")\n",
    "plt.legend(loc=\"best\")\n",
    "plt.title(\"Heteroscedastic Noise\");"
   ]
  }
 ],
 "metadata": {
  "kernelspec": {
   "display_name": "Python 3",
   "language": "python",
   "name": "python3"
  },
  "language_info": {
   "codemirror_mode": {
    "name": "ipython",
    "version": 3
   },
   "file_extension": ".py",
   "mimetype": "text/x-python",
   "name": "python",
   "nbconvert_exporter": "python",
   "pygments_lexer": "ipython3",
   "version": "3.6.1"
  }
 },
 "nbformat": 4,
 "nbformat_minor": 2
}
