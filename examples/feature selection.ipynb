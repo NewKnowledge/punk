{
 "cells": [
  {
   "cell_type": "code",
   "execution_count": 1,
   "metadata": {
    "collapsed": false,
    "scrolled": true
   },
   "outputs": [
    {
     "name": "stdout",
     "output_type": "stream",
     "text": [
      "Help on package punk:\n",
      "\n",
      "NAME\n",
      "    punk\n",
      "\n",
      "PACKAGE CONTENTS\n",
      "    feature_selection (package)\n",
      "    novelty_detection (package)\n",
      "    utils (package)\n",
      "\n",
      "DATA\n",
      "    __all__ = ['feature_selection', 'utils']\n",
      "\n",
      "VERSION\n",
      "    0.1.3dev1\n",
      "\n",
      "FILE\n",
      "    /home/alarcj/Documents/datasci/NewKnowledge/primitives_repo/CODE/examples/punk/__init__.py\n",
      "\n",
      "\n"
     ]
    }
   ],
   "source": [
    "import punk\n",
    "help(punk)"
   ]
  },
  {
   "cell_type": "code",
   "execution_count": 2,
   "metadata": {
    "collapsed": false
   },
   "outputs": [],
   "source": [
    "%matplotlib inline\n",
    "import matplotlib.pyplot as plt\n",
    "import pandas as pd\n",
    "import numpy as np\n",
    "from scipy import linalg\n",
    "\n",
    "from sklearn.model_selection import train_test_split\n",
    "\n",
    "from punk import feature_selection"
   ]
  },
  {
   "cell_type": "markdown",
   "metadata": {},
   "source": [
    "# Feature Selection\n",
    "\n",
    "## Feature Selection for Classification Problems"
   ]
  },
  {
   "cell_type": "code",
   "execution_count": 23,
   "metadata": {
    "collapsed": false
   },
   "outputs": [],
   "source": [
    "df_wine = pd.read_csv('https://raw.githubusercontent.com/rasbt/'\n",
    "                      'python-machine-learning-book/master/code/datasets/wine/wine.data', \n",
    "                      header=None)    \n",
    "columns = np.array(['Alcohol', 'Malic acid', 'Ash',\n",
    "                    'Alcalinity of ash', 'Magnesium', 'Total phenols',\n",
    "                    'Flavanoids', 'Nonflavanoid phenols', 'Proanthocyanins',\n",
    "                    'Color intensity', 'Hue', 'OD280/OD315 of diluted wines',\n",
    "                    'Proline'])\n",
    "X, y = df_wine.iloc[:, 1:].values, df_wine.iloc[:, 0].values            \n",
    "X, _, y, _ = train_test_split(X, y, test_size=0.3, random_state=0)"
   ]
  },
  {
   "cell_type": "code",
   "execution_count": 24,
   "metadata": {
    "collapsed": false
   },
   "outputs": [
    {
     "name": "stdout",
     "output_type": "stream",
     "text": [
      "dict_keys(['indices', 'feature_importances'])\n",
      "CPU times: user 42.7 s, sys: 0 ns, total: 42.7 s\n",
      "Wall time: 43.1 s\n"
     ]
    }
   ],
   "source": [
    "%%time\n",
    "rfc = feature_selection.rf.rfclassifier_feature_selection(X, y)\n",
    "print(rfc.keys())"
   ]
  },
  {
   "cell_type": "code",
   "execution_count": 26,
   "metadata": {
    "collapsed": false,
    "scrolled": false
   },
   "outputs": [
    {
     "name": "stdout",
     "output_type": "stream",
     "text": [
      " 1)        Color intensity         0.17600\n",
      " 2)            Proline             0.16426\n",
      " 3)           Flavanoids           0.14943\n",
      " 4)  OD280/OD315 of diluted wines  0.14081\n",
      " 5)            Alcohol             0.10759\n",
      " 6)              Hue               0.07522\n",
      " 7)         Total phenols          0.05475\n",
      " 8)       Alcalinity of ash        0.03159\n",
      " 9)           Malic acid           0.02552\n",
      "10)        Proanthocyanins         0.02376\n",
      "11)           Magnesium            0.02217\n",
      "12)      Nonflavanoid phenols      0.01659\n",
      "13)              Ash               0.01231\n"
     ]
    },
    {
     "data": {
      "image/png": "[encoded data removed]",
      "text/plain": [
       "<matplotlib.figure.Figure at 0x7f6a685c9710>"
      ]
     },
     "metadata": {},
     "output_type": "display_data"
    }
   ],
   "source": [
    "feature_importances = rfc[\"feature_importances\"]\n",
    "feature_indices = rfc[\"indices\"]\n",
    "\n",
    "for i in range(len(columns)):\n",
    "    print(\"{:>2}) {:^30} {:.5f}\".format(i+1, \n",
    "                                        columns[feature_indices[i]],\n",
    "                                        feature_importances[feature_indices[i]]\n",
    "                                       ))\n",
    "    \n",
    "plt.figure(figsize=(9, 5))\n",
    "plt.title('Feature Importances')\n",
    "plt.bar(range(len(columns)), feature_importances[feature_indices], color='lightblue', align='center')\n",
    "\n",
    "plt.xticks(range(len(columns)), columns[feature_indices], rotation=90, fontsize=14)\n",
    "plt.xlim([-1, len(columns)])\n",
    "plt.tight_layout()\n",
    "plt.savefig('./random_forest.png', dpi=300)\n",
    "plt.show()"
   ]
  },
  {
   "cell_type": "markdown",
   "metadata": {},
   "source": [
    "## Feature Selection for Regression Problems"
   ]
  },
  {
   "cell_type": "code",
   "execution_count": 27,
   "metadata": {
    "collapsed": true
   },
   "outputs": [],
   "source": [
    "from sklearn import datasets"
   ]
  },
  {
   "cell_type": "code",
   "execution_count": 29,
   "metadata": {
    "collapsed": false
   },
   "outputs": [],
   "source": [
    "boston = datasets.load_boston()\n",
    "X, y = boston.data, boston.target"
   ]
  },
  {
   "cell_type": "code",
   "execution_count": 31,
   "metadata": {
    "collapsed": false
   },
   "outputs": [
    {
     "name": "stdout",
     "output_type": "stream",
     "text": [
      "CPU times: user 1min 51s, sys: 348 ms, total: 1min 51s\n",
      "Wall time: 1min 53s\n"
     ]
    }
   ],
   "source": [
    "%%time\n",
    "\n",
    "rfr = feature_selection.rfregressor_feature_selection(X, y)"
   ]
  },
  {
   "cell_type": "code",
   "execution_count": 40,
   "metadata": {
    "collapsed": false,
    "scrolled": false
   },
   "outputs": [
    {
     "name": "stdout",
     "output_type": "stream",
     "text": [
      " 1)               RM               0.43219\n",
      " 2)             LSTAT              0.37294\n",
      " 3)              DIS               0.06685\n",
      " 4)              CRIM              0.03685\n",
      " 5)              NOX               0.02356\n",
      " 6)            PTRATIO             0.01672\n",
      " 7)              TAX               0.01437\n",
      " 8)              AGE               0.01310\n",
      " 9)               B                0.01174\n",
      "10)             INDUS              0.00596\n",
      "11)              RAD               0.00383\n",
      "12)               ZN               0.00102\n",
      "13)              CHAS              0.00087\n"
     ]
    },
    {
     "data": {
      "image/png": "[encoded data removed]",
      "text/plain": [
       "<matplotlib.figure.Figure at 0x7f6a66a07668>"
      ]
     },
     "metadata": {},
     "output_type": "display_data"
    }
   ],
   "source": [
    "feature_importances = rfr[\"feature_importances\"]\n",
    "feature_indices = rfr[\"indices\"]\n",
    "\n",
    "columns = boston.feature_names\n",
    "for i in range(len(columns)):\n",
    "    print(\"{:>2}) {:^30} {:.5f}\".format(i+1, \n",
    "                                        columns[feature_indices[i]],\n",
    "                                        feature_importances[feature_indices[i]]\n",
    "                                       ))\n",
    "    \n",
    "plt.figure(figsize=(9, 5))\n",
    "plt.title('Feature Importances')\n",
    "plt.bar(range(len(columns)), feature_importances[feature_indices], color='lightblue', align='center')\n",
    "\n",
    "plt.xticks(range(len(columns)), columns[feature_indices], rotation=90, fontsize=14)\n",
    "plt.xlim([-1, len(columns)])\n",
    "plt.tight_layout()\n",
    "plt.savefig('./random_forest.png', dpi=300)\n",
    "plt.show()"
   ]
  },
  {
   "cell_type": "code",
   "execution_count": 48,
   "metadata": {
    "collapsed": false
   },
   "outputs": [
    {
     "data": {
      "image/png": "[encoded data removed]",
      "text/plain": [
       "<matplotlib.figure.Figure at 0x7f6a66b76c50>"
      ]
     },
     "metadata": {},
     "output_type": "display_data"
    }
   ],
   "source": [
    "import matplotlib.image as mpimg\n",
    "\n",
    "img=mpimg.imread(\"heatmap.png\")\n",
    "plt.figure(figsize=(10, 10))\n",
    "plt.axis(\"off\")\n",
    "plt.imshow(img);"
   ]
  },
  {
   "cell_type": "markdown",
   "metadata": {},
   "source": [
    "# Novelty Detection - Dataset Summarization\n",
    "\n",
    "## Testing Heteroscedasticity"
   ]
  },
  {
   "cell_type": "code",
   "execution_count": 4,
   "metadata": {
    "collapsed": true
   },
   "outputs": [],
   "source": [
    "from punk import novelty_detection"
   ]
  },
  {
   "cell_type": "code",
   "execution_count": 3,
   "metadata": {
    "collapsed": true
   },
   "outputs": [],
   "source": [
    "n_samples, n_features, rank = 1000, 50, 10\n",
    "sigma = 1.\n",
    "rng = np.random.RandomState(42)\n",
    "U, _, _ = linalg.svd(rng.randn(n_features, n_features))\n",
    "X = np.dot(rng.randn(n_samples, rank), U[:, :rank].T)\n",
    "\n",
    "# Adding homoscedastic noise\n",
    "X_homo = X + sigma * rng.randn(n_samples, n_features)\n",
    "\n",
    "# Adding heteroscedastic noise\n",
    "sigmas = sigma * rng.rand(n_features) + sigma / 2.\n",
    "X_hetero = X + rng.randn(n_samples, n_features) * sigmas"
   ]
  },
  {
   "cell_type": "code",
   "execution_count": 5,
   "metadata": {
    "collapsed": false
   },
   "outputs": [
    {
     "name": "stdout",
     "output_type": "stream",
     "text": [
      "CPU times: user 16 s, sys: 17.2 s, total: 33.2 s\n",
      "Wall time: 10.7 s\n"
     ]
    }
   ],
   "source": [
    "%%time\n",
    "\n",
    "test_homo = novelty_detection.heteroscedasticity.test_heteroscedasticity(X_homo, max_iter=1000, tol=0.01)"
   ]
  },
  {
   "cell_type": "code",
   "execution_count": 6,
   "metadata": {
    "collapsed": false
   },
   "outputs": [
    {
     "name": "stdout",
     "output_type": "stream",
     "text": [
      "CPU times: user 16.2 s, sys: 17.9 s, total: 34.1 s\n",
      "Wall time: 13.1 s\n"
     ]
    }
   ],
   "source": [
    "%%time\n",
    "\n",
    "test_hetero = novelty_detection.heteroscedasticity.test_heteroscedasticity(X_hetero, max_iter=1000, tol=0.01)"
   ]
  },
  {
   "cell_type": "code",
   "execution_count": 7,
   "metadata": {
    "collapsed": false
   },
   "outputs": [
    {
     "name": "stdout",
     "output_type": "stream",
     "text": [
      "{'pca': (-74.953690343714229, 10), 'fa': (-75.029704299751259, 10)}\n",
      "{'pca': (-77.659865847140864, 40), 'fa': (-76.948541495525788, 10)}\n"
     ]
    }
   ],
   "source": [
    "print(test_homo)\n",
    "print(test_hetero)"
   ]
  },
  {
   "cell_type": "markdown",
   "metadata": {},
   "source": [
    "### Compute Scores"
   ]
  },
  {
   "cell_type": "code",
   "execution_count": 13,
   "metadata": {
    "collapsed": true
   },
   "outputs": [],
   "source": [
    "pca_scores_ho, fa_scores_ho = novelty_detection.compute_scores(X_homo, max_iter=1000, tol=0.01)\n",
    "pca_scores_he, fa_scores_he = novelty_detection.compute_scores(X_hetero, max_iter=1000, tol=0.01)"
   ]
  },
  {
   "cell_type": "code",
   "execution_count": 21,
   "metadata": {
    "collapsed": false
   },
   "outputs": [
    {
     "data": {
      "image/png": "[encoded data removed]",
      "text/plain": [
       "<matplotlib.figure.Figure at 0x7f6a68705a20>"
      ]
     },
     "metadata": {},
     "output_type": "display_data"
    }
   ],
   "source": [
    "plt.plot([x for y, x in pca_scores_ho], [y for y, x in pca_scores_ho], 'b', label='PCA scores')\n",
    "plt.plot([x for y, x in fa_scores_ho], [y for y, x in fa_scores_ho], 'r', label='FA scores')\n",
    "plt.axvline(rank, color='g', label='TRUTH: %d' % rank, linestyle='-')\n",
    "plt.axvline(test_homo[\"pca\"][1], color='b', label='PCA CV: %d' %test_homo[\"pca\"][1] , linestyle='--')\n",
    "plt.axvline(test_homo[\"fa\"][1], color='r', label='FactorAnalysis CV: %d' % test_homo[\"fa\"][1], linestyle='--')\n",
    "\n",
    "plt.xlabel(\"# of components\")\n",
    "plt.ylabel(\"CV scores\")\n",
    "plt.legend(loc=\"best\")\n",
    "plt.title(\"Homoscedastic Noise\");"
   ]
  },
  {
   "cell_type": "code",
   "execution_count": 22,
   "metadata": {
    "collapsed": false,
    "scrolled": true
   },
   "outputs": [
    {
     "data": {
      "image/png": "[encoded data removed]",
      "text/plain": [
       "<matplotlib.figure.Figure at 0x7f6a6865e6d8>"
      ]
     },
     "metadata": {},
     "output_type": "display_data"
    }
   ],
   "source": [
    "plt.plot([x for y, x in pca_scores_he], [y for y, x in pca_scores_he], 'b', label='PCA scores')\n",
    "plt.plot([x for y, x in fa_scores_he], [y for y, x in fa_scores_he], 'r', label='FA scores')\n",
    "plt.axvline(rank, color='g', label='TRUTH: %d' % rank, linestyle='-')\n",
    "plt.axvline(test_hetero[\"pca\"][1], color='b', label='PCA CV: %d' %test_hetero[\"pca\"][1] , linestyle='--')\n",
    "plt.axvline(test_hetero[\"fa\"][1], color='r', label='FactorAnalysis CV: %d'%test_hetero[\"fa\"][1], linestyle='--')\n",
    "\n",
    "plt.xlabel(\"# of components\")\n",
    "plt.ylabel(\"CV scores\")\n",
    "plt.legend(loc=\"best\")\n",
    "plt.title(\"Heteroscedastic Noise\");"
   ]
  },
  {
   "cell_type": "markdown",
   "metadata": {},
   "source": [
    "# Research Notes"
   ]
  },
  {
   "cell_type": "markdown",
   "metadata": {
    "collapsed": true
   },
   "source": [
    "A simple linear continuous latent variable model for our data, $X$, is,\n",
    "$$\n",
    "x_i = Wh_i + \\mu + \\epsilon\n",
    "$$\n",
    "\n",
    "$h_i$ is a latent variable.\n",
    "$\\mu$ is some arbitrary offset vector.\n",
    "$\\epsilon \\sim N(0, \\boldsymbol{\\Psi})$.\n",
    "\n",
    "If we knew $h_i$, we could get the likelihood of our data \n",
    "$$\n",
    "p(x_i | h_i ) = N(Wh_i + \\mu, \\boldsymbol{\\Psi})\n",
    "$$\n",
    "\n",
    "If we wanted to infer our model from the observed data we would only require a posterior forthe latent variable $h_i$.\n",
    "Because the likelihood is normally distributed we could assume the prior for the latent variable will also be normally distributed (the conjugate distribution for a Gaussia is itself).\n",
    "$$\n",
    "p(h_i) \\sim N(0, \\boldsymbol{I})\n",
    "$$\n",
    "\n",
    "Turns out this will give you a marginal distribution of the form\n",
    "$$\n",
    "p(x) = N(\\mu, WW^T + \\boldsymbol{\\Psi})\n",
    "$$\n",
    "\n",
    "So we can model $x$ by specifying $\\mu, \\boldsymbol{\\Psi}$.\n",
    "Additional assumption with regards to the error covariance $\\boldsymbol{\\Psi}$\n",
    "1. $\\boldsymbol{\\Psi} = \\sigma^2 \\boldsymbol{I}$\n",
    "2. $\\boldsymbol{\\Psi} = $ diag$(\\psi_1,...,\\psi_n)$ "
   ]
  },
  {
   "cell_type": "markdown",
   "metadata": {
    "collapsed": true
   },
   "source": [
    "In practice, the data points will not be confined precisely to a low-dimensional manifold, and we can interpret the departure of data points from the manifold as noise.\n",
    "This leads to a generative view of models in which we first select a point within the manifold according to some latent variable distribution and then generate an observed data point by adding noise, drawn from some conditional distribution of the data variables given the latent variables.\n",
    "\n",
    "Using a Gaussian distribution as a model for continuous latent and observed variables and using a linear-Gaussian dependence of the observed variables on the state of the latent variable leads to PCA and Factor Analysis.\n",
    "\n"
   ]
  },
  {
   "cell_type": "markdown",
   "metadata": {},
   "source": [
    "## PCA - Maximum Variance Formulation\n",
    "\n",
    "Our goal is to project the data onto a lower dimensionality space while maximizing the variance of the projected data.\n",
    "\n",
    "Each data point $x_n$ is projected onto a scalar value $u_{1}^{T}x_n$.\n",
    "$$\n",
    "\\bar{x} = \\frac{1}{N} \\Sigma^{N}_{n=1} x_n\n",
    "$$\n",
    "the variance is given by\n",
    "$$\n",
    "\\frac{1}{N} \\Sigma_{n=1}^{N} \\left( u_{1}^{T}x_n - u^{T}_{1}\\bar{x} \\right) = u_{1}^{T}\\boldsymbol{S}u_1\n",
    "$$\n",
    "$S$ is the covariance matrix,\n",
    "$$\n",
    "S = \\frac{1}{N} \\Sigma_{n=1}^{N} (x_n - \\bar{x})(x_n - \\bar{x})^T\n",
    "$$\n",
    "\n",
    "We maximize the projected variance $u_{i}^{T}Su_1$ with respect to the projection vector $u_1$ with the constraint that $u_{1}^{T}u_1 =1$.\n",
    "Introduce a Lagrance multiplier $\\lambda_1$,\n",
    "$$\n",
    "u_{1}^{T}Su_1 + \\lambda_1 (1 - u_{1}^{T}u_1)\n",
    "$$\n",
    "\n",
    "set the derivative with respect to $u_1$ equal to zero, and you will hopefully come to the conclusion that there is a stationary point at $Su_1 = \\lambda_1 u_1$.\n",
    "Which impies that $u_1$ must be an eigenvector of $S$.\n",
    "\n",
    "If we not multiply by $u^T$,\n",
    "$$\n",
    "U^T S u_1 = \\lambda\n",
    "$$\n",
    "gives us the projected variance and the variance will be a maximum when we set $u_1$ equal to the eigenvector having the largest eigenvalue $\\lambda_1$."
   ]
  },
  {
   "cell_type": "markdown",
   "metadata": {},
   "source": [
    "## PCA - Minimum Error Formulation\n",
    "\n",
    "Complete orthonormal set of $D$-dimensional basis vectors that satisfy,\n",
    "$$\n",
    "u_{i}^{T}u_j = \\delta_{ij}\n",
    "$$\n",
    "\n",
    "Because this basis is complete, each data point can be represented exactly as a linear combination of the basis vectors\n",
    "$$\n",
    "x_n = \\Sigma^{D}_{i=1} \\alpha_{ni} u_i \n",
    "$$\n",
    "\n",
    "This transformation corresponds to a rotation of the coordinate system where the original $D$ components $\\{ x_{n1}, ..., x_{nD}\\}$ are replaced by an equivalent set $\\{ \\alpha_{n1}, ..., \\alpha_{nD} \\}$. \n",
    "\n",
    "Taking the inner product with $u_j$, and making use of the orthonormality constraint, $\\alpha_{nj} = u^{T}_{j} x_n = x_{n}^{T} u_j$\n",
    "\n",
    "To project to a lower space\n",
    "$$\n",
    "\\tilde{x} = \\Sigma_{i=1}^{M} z_{ni}u_i + \\Sigma_{i = M + 1}^{D} b_i u_i\n",
    "$$\n",
    "\n",
    "So now our goal is to chose $z_{ni}, b_i, u_i,$ so as to minimize the distortion introduced by the dimensionality reduction.\n",
    "$$\n",
    "J = \\frac{1}{N} \\Sigma_{i=1}^{N} || x_n - \\tilde{x}_n ||^2 \n",
    "$$\n",
    "\n",
    "Substituting for $\\tilde{x}$ and setting the derivative with respect to $z_{nj}$ equal to zero, we get\n",
    "$$\n",
    "z_{nj} = x^{T}_{n}u_j\n",
    "$$\n",
    "Similarly, setting the derivative with respect to $b_j$ equal to zero, we get\n",
    "$$\n",
    "b_j = \\bar{x}^T u_j\n",
    "$$\n",
    "\n",
    "So that\n",
    "$$\n",
    "x_n - \\tilde{x}_n = \\Sigma_{i=M+1}^{D} \\left( (x_n - \\bar{x})^T u_i \\right)u_i\n",
    "$$\n",
    "\n",
    "Eventually, we can show that the distortion measure we want to minimize can be writen as \n",
    "$$\n",
    "J = \\frac{1}{N} \\Sigma_{n=1}^{N} \\Sigma_{i=M+1}^{D} \\left( x^{T}_{n}u_i - \\bar{x}^Tu_i \\right)^2 = \\Sigma_{i=M+1}^{D}u_{i}^{T} S u_i\n",
    "$$\n",
    "\n",
    "which again must be a constrained optimization.\n",
    "\n",
    "In order to minimize the average square projection distance, we should chose the principal component subspace to pass through the mean of the data and to be aligned with the direction of maximum variance."
   ]
  },
  {
   "cell_type": "markdown",
   "metadata": {},
   "source": [
    "**Whitening:** Using PCA we can make a substantial normalization of the data to give it zero mean and unit covariance, this will decorrelate the different variables.\n",
    "\n",
    "Rerwrite $SU = \\lambda_i u_i$ as a matrix equation, which becomes\n",
    "$$\n",
    "SU = UL \n",
    "$$\n",
    "\n",
    "So to whiten the data we make the transformation,\n",
    "$$\n",
    "x^{\\prime}_{n} = L^{-1/2}U^T (x_n - \\bar{x}) \n",
    "$$\n",
    "\n",
    "This will make it so the the set $x^\\prime$ has zero mean and its covariance will be unity."
   ]
  },
  {
   "cell_type": "markdown",
   "metadata": {},
   "source": [
    "## Probabilistic PCA\n",
    "\n",
    "So now we are onto explore how PCA can be formulated in terms of a Maximum Likelihood solution of a probabilistic latent variable model.\n",
    "\n",
    "Probabilistic PCA is an example of a linear-Gaussian framework, in which all marginal and conditional distributions are Gaussian.\n",
    "\n",
    "Let's first introduce an explicit latent variable $z$ corresponding to the principal-component subspace.\n",
    "For this latent variable we will use a prior Gaussian distribution $p(z)$, along with the Gaussian conditional distribution $p(x|z)$.\n",
    "\n",
    "$$\n",
    "p(z) \\sim N(z | 0, I)\n",
    "$$\n",
    "\n",
    "and\n",
    "\n",
    "$$\n",
    "p(x|z) \\sim N(x | Wz + \\mu, \\sigma^2 I)\n",
    "$$\n",
    "\n",
    "So the mean of $x$ will be a general linear function of $z$ governed by the $D \\times M$ matrix W and the $D$-dimensional vector $\\mu$.\n",
    "Note that this factorizes with respect to the elements of $X$, essentially being a naive Bayes model.\n",
    "The columns of $W$ turn out to span a linear subspace within the data space that corresponds to the principal subspace.\n",
    "The other parameter is the variance of the conditional distribution.\n",
    "\n",
    "The $D$-dimensional observed variable $x$ is defined by a linear transformation of the $M$-dimensional latent variable $z$ plus additive Gaussian noise\n",
    "\n",
    "$$\n",
    "x = Wz + \\mu + \\epsilon\n",
    "$$\n",
    "\n",
    "$z$ is an $M$-dimensional Gaussian latent varibale and $\\epsilon$ is a $D$-dimensional zero-mean Gaussian-distributed noise variable with covariance $\\sigma^2 I$.\n",
    "\n",
    "\n",
    "Now suppose we want to use the maximum likelihood framework to obtain the values of $W, \\mu,$ and $\\sigma$.\n",
    "To write down a likelihood function we need a marginal distribution of the observed variable.\n",
    "\n",
    "$$\n",
    "p(x) = \\int dz \\, p(x|z) p(z)\n",
    "$$\n",
    "\n",
    "Because this corresponds to a linear-Gaussian model, this marginal distribution is again Gaussian \n",
    "\n",
    "$$\n",
    "p(x) \\sim N(x | \\mu, C)\n",
    "$$\n",
    "\n",
    "Where the $D \\times D$ covariance matrix $C$ is defined as \n",
    "$$\n",
    "C = W W^T + \\sigma^2 I\n",
    "$$\n",
    "\n",
    "$$\n",
    "E[x] = E[Wz + \\mu + \\epsilon] = \\mu\n",
    "$$\n",
    "\n",
    "$$\n",
    "Cov[x] = E[(Wz + \\mu)(Wz + \\mu)^T] = E[Wzz^TW^T] + E[\\epsilon\\epsilon^T] = WW^T + \\sigma^2 I\n",
    "$$\n",
    "\n",
    "Using the fact that $z$ and $\\epsilon$ are independent random variables, thus uncorrelated.\n",
    "\n",
    "Finally, the posterior distribution is given by\n",
    "\n",
    "$$\n",
    "p(z|x) \\sim N(z | M^{-1}W^T (x-\\mu), \\sigma^{-2}M)\n",
    "$$\n",
    "\n",
    "where $M = W^TW + \\sigma^2 I$."
   ]
  },
  {
   "cell_type": "markdown",
   "metadata": {},
   "source": [
    "# EM Algorithm for PCA\n",
    "\n",
    "For each data point there is a corresponding latent variable.\n",
    "\n",
    "To derive an EM algorithm for PCA we will follow the framework for EM:\n",
    "* Write a complete data log-likelihood.\n",
    "* Calculate the expectation value of the log-likelihood with respect to the posterior distribution of the latent distribution using previous parameter values.\n",
    "* Maximize the complete log-likelihood to generate new parameter values.\n",
    "\n",
    "The complete log-likelihood can then be written as:\n",
    "\n",
    "$$\n",
    "\\ln p(X,Z | \\mu, W, \\sigma^2) =\n",
    "\\Sigma_{n=1}^{N} \\ln p(x_n|z_n) + \\ln p(z_n)\n",
    "$$"
   ]
  },
  {
   "cell_type": "markdown",
   "metadata": {},
   "source": [
    "# Expectation Maximization Algorithm\n",
    "\n",
    "Suppose we make some measurements which gives us some data points, and we know these results correspond to one of $K$ different models.\n",
    "\n",
    "So we need a probabilistic model to infer which of these data points comes from which of the $K$ models,\n",
    "\n",
    "$$\n",
    "p(x|\\theta) = p(x | z=k, \\theta_k) p(z=k | \\pi)\n",
    "$$\n",
    "\n",
    "Here $\\theta = (\\theta_1,...,\\theta_k; \\pi)$ denotes the parameters for model $k$ and $\\pi$ the weights.\n",
    "\n",
    "So one could now try to solve this problem by calculating the gradient ascent of the log-likelihood, $\\mathcal{l}(\\theta)$ to try and find the optimal $\\theta$,\n",
    "\n",
    "$$\n",
    "\\mathcal{l}(\\theta) = \\log p(D | \\theta) = \\Sigma_i \\log p(x_i | \\theta) = \\Sigma_i \\log \\Sigma_{z=1}^{K} p(x_i | z=k, \\theta_k)\n",
    "$$\n",
    "\n",
    "This is a bit troublesome as we have a sum inside the logs so what the Expectation Maximization algorithm helps us do is to move that sum outside the logarithm by trying to find a sequence of $\\theta_0, \\theta_1,...$ such that\n",
    "\n",
    "$$\n",
    "\\mathcal{l}(\\theta_0) \\leq \\mathcal{l}(\\theta_1) \\leq \\mathcal{l}(\\theta_2) \\leq ...\n",
    "$$"
   ]
  },
  {
   "cell_type": "markdown",
   "metadata": {},
   "source": [
    "## Construction of the sequence and proof of its monotonicity\n",
    "\n",
    "Let's define a function $Q$ such that,\n",
    "\n",
    "$$\n",
    "Q(\\theta, \\theta^\\prime ) = \\Sigma_i E_{p(z|x_i, \\theta^\\prime)} \\left[ \\log p(x_i, z|\\theta) \\right] + \\Sigma_i H\\left[ p(z|x_i, \\theta^\\prime) \\right]\n",
    "$$\n",
    "\n",
    "$$\n",
    "= \\Sigma_i \\Sigma_z p(z|x_i,\\theta^\\prime) \\log p(x_i,z|\\theta) - \\Sigma_i \\Sigma_z p(z|x_i,\\theta^\\prime) \\log p(z|x_i,\\theta)\n",
    "$$\n",
    "\n",
    "$H$ denotes the entropy and we define the series\n",
    "\n",
    "$$\n",
    "\\theta_{t+1} = arg \\, max_\\theta Q(\\theta,\\theta_t)\n",
    "$$\n",
    "\n",
    "We will try to show the following:\n",
    "1. $Q(\\theta,\\theta ) = \\mathcal{l}(\\theta )$.\n",
    "2. $\\mathcal{l}(\\theta ) \\geq Q(\\theta, \\theta^\\prime)$ for every $\\theta^\\prime$.\n",
    "3. $Q(\\theta_{t+1}, \\theta_t) \\geq Q(\\theta^\\prime ,\\theta_t )$ for every $\\theta^\\prime$.\n",
    "\n",
    "So,\n",
    "$$\n",
    "\\mathcal{l}(\\theta_{t+1}) \\geq Q(\\theta_{t+1},\\theta_t) \\geq Q(\\theta_t, \\theta_t) = \\mathcal{l}(\\theta_t)\n",
    "$$\n",
    "which denotes monotonic convergence.\n",
    "\n",
    "\n",
    "### Proof of 3\n",
    "By $\\theta_{t+1} = arg \\, max_\\theta Q(\\theta,\\theta_t)$ we show that $Q(\\theta_{t+1}, \\theta_t) \\geq Q(\\theta^\\prime ,\\theta_t )$ for every $\\theta^\\prime$.\n",
    "\n",
    "### Proof of 2\n",
    "\n",
    "Using Jensen's inequality, $\\phi$ is a convex function here,\n",
    "\n",
    "$$\n",
    "E\\left[ \\phi(X) \\right] \\geq \\phi(E\\left[X\\right])\n",
    "$$\n",
    "\n",
    "$$\n",
    "\\mathcal{l}(\\theta) = \\Sigma_i \\log \\Sigma_z p(x_i, z|\\theta) = \\Sigma_i \\log \\Sigma_z \\frac{p(x_i,z|\\theta)}{p(z|x_i,\\theta^\\prime)} p(z|x_i,\\theta^\\prime)\n",
    "\\geq\n",
    "\\Sigma_i \\Sigma_z p(z|x_i,\\theta^\\prime) \\log \\frac{p(x_i,z|\\theta)}{p(z|x_i,\\theta^\\prime)} = Q(\\theta,\\theta^\\prime)\n",
    "$$\n",
    "\n",
    "\n",
    "### Proof of 1\n",
    "$$\n",
    "Q(\\theta,\\theta) = \\Sigma_i \\Sigma_z p(z|x_i,\\theta) \\log \\frac{p(z|x_i,\\theta)p(x_i|\\theta)}{p(z|x_i,\\theta)}\n",
    "$$\n",
    "\n",
    "$$\n",
    "= \\Sigma_i \\Sigma_z p(z|x_i,\\theta) \\log p(x_i|\\theta) \n",
    "$$\n",
    "\n",
    "$$\n",
    "= \\Sigma_i \\log p(x_i|\\theta) = \\mathcal{l}(\\theta)\n",
    "$$\n",
    "\n",
    "\n",
    "The algorithm is called Expectation-Maximization algorithm because we alternate between the expectation step we perform to calculate $Q(\\theta,\\theta_t)$ and the maximization step to arrive at $\\theta_{t+1}$. The parameter vector $\\theta_0$ has to be initialized at the beginning. The local optimum which is found depends on the initial value."
   ]
  },
  {
   "cell_type": "code",
   "execution_count": 7,
   "metadata": {
    "collapsed": true
   },
   "outputs": [],
   "source": [
    "import scipy as sp\n",
    "import scipy.stats as st"
   ]
  },
  {
   "cell_type": "code",
   "execution_count": 67,
   "metadata": {
    "collapsed": true
   },
   "outputs": [],
   "source": [
    "class Gauss:\n",
    "    def __init__(self, mu, cov, pi):\n",
    "        self.mu = mu\n",
    "        self.cov = cov\n",
    "        self.pi = pi\n",
    "        self.r = None\n",
    "        \n",
    "    def __repr__(self):\n",
    "        return \"Gauss({}, {}, {})\".format(self.mu, self.cov, self.pi)\n",
    "    \n",
    "    def p(self, X): \n",
    "        sampling = st.multivariate_normal.pdf(X, mean=self.mu, cov=self.cov)\n",
    "        npsampling = np.random.multivariate_normal(self.mu, self.cov, X.shape[0])\n",
    "        return sampling\n",
    "    \n",
    "    \n",
    "    def expectation(self, X):\n",
    "        self.r = self.pi * self.p(X)\n",
    "        \n",
    "    def maximization(self, X):\n",
    "        self.maximize_pi()\n",
    "        self.maximize_mu(X)\n",
    "        self.maximize_sigma(X)\n",
    "        \n",
    "    def maximize_pi(self):\n",
    "        self.pi = self.r.mean()\n",
    "        \n",
    "    def maximize_mu(self, X):\n",
    "        self.mu = X.T @ self.r / self.r.sum()\n",
    "        \n",
    "    def maximize_sigma(self, X):\n",
    "        x_minus_mu_weighted = (X - self.mu) * self.r[sp.newaxis].T\n",
    "        self.cov = x_minus_mu_weighted.T @ x_minus_mu_weighted / self.r.sum()\n",
    "        "
   ]
  },
  {
   "cell_type": "code",
   "execution_count": 68,
   "metadata": {
    "collapsed": true
   },
   "outputs": [],
   "source": [
    "class Mixture:\n",
    "    def __init__(self, components):\n",
    "        self.components = list(components)\n",
    "\n",
    "    def __repr__(self):\n",
    "        return \"{}({})\".format(self.__class__.__name__, self.components)\n",
    "\n",
    "    def __len__(self):\n",
    "        return len(self.components)\n",
    "\n",
    "    def __getitem__(self, item):\n",
    "        return self.components[item]\n",
    "\n",
    "    def expectation(self, X):\n",
    "        for component in self.components:\n",
    "            component.expectation(X)\n",
    "        self._normalize_components()\n",
    "\n",
    "    def _normalize_components(self):\n",
    "        r_sum = sum(component.r for component in self)\n",
    "        for component in self.components:\n",
    "            component.r /= r_sum\n",
    "\n",
    "    def maximization(self, X):\n",
    "        for k, component in enumerate(self):\n",
    "            component.maximization(X)\n",
    "\n",
    "    def fit(self, X, n_steps=1000):\n",
    "        for _ in range(n_steps):\n",
    "            self.expectation(X)\n",
    "            self.maximization(X)"
   ]
  },
  {
   "cell_type": "code",
   "execution_count": 83,
   "metadata": {
    "collapsed": false
   },
   "outputs": [],
   "source": [
    "from sklearn.datasets import make_blobs\n",
    "import matplotlib.pyplot as plt\n",
    "\n",
    "n_classes = 3\n",
    "X, y = make_blobs(n_samples=100, centers=n_classes)\n",
    "\n",
    "mixture = Mixture(Gauss(sp.randn(2)*4, sp.eye(2), 1/n_classes) for _ in range(n_classes))"
   ]
  },
  {
   "cell_type": "code",
   "execution_count": 84,
   "metadata": {
    "collapsed": false
   },
   "outputs": [],
   "source": [
    "mixture.fit(X, n_steps=10000)"
   ]
  },
  {
   "cell_type": "code",
   "execution_count": 99,
   "metadata": {
    "collapsed": false
   },
   "outputs": [
    {
     "data": {
      "text/plain": [
       "<matplotlib.collections.PathCollection at 0x7f0ba589a0f0>"
      ]
     },
     "execution_count": 99,
     "metadata": {},
     "output_type": "execute_result"
    },
    {
     "data": {
      "image/png": "[encoded data removed]",
      "text/plain": [
       "<matplotlib.figure.Figure at 0x7f0ba59e5f28>"
      ]
     },
     "metadata": {},
     "output_type": "display_data"
    }
   ],
   "source": [
    "plt.scatter(X[:,0], X[:,1], c=y)\n",
    "plt.scatter(mixture.components[0].mu[0], mixture.components[0].mu[1], \n",
    "            s=300, facecolors='none', edgecolors='r', linewidths=3)\n",
    "\n",
    "plt.scatter(mixture.components[1].mu[0], mixture.components[1].mu[1], \n",
    "            s=300, facecolors='none', edgecolors='r', linewidths=3)\n",
    "\n",
    "plt.scatter(mixture.components[2].mu[0], mixture.components[2].mu[1], \n",
    "            s=300, facecolors='none', edgecolors='r', linewidths=3)"
   ]
  },
  {
   "cell_type": "code",
   "execution_count": null,
   "metadata": {
    "collapsed": true
   },
   "outputs": [],
   "source": []
  }
 ],
 "metadata": {
  "kernelspec": {
   "display_name": "Python 3",
   "language": "python",
   "name": "python3"
  },
  "language_info": {
   "codemirror_mode": {
    "name": "ipython",
    "version": 3
   },
   "file_extension": ".py",
   "mimetype": "text/x-python",
   "name": "python",
   "nbconvert_exporter": "python",
   "pygments_lexer": "ipython3",
   "version": "3.6.1"
  }
 },
 "nbformat": 4,
 "nbformat_minor": 2
}
