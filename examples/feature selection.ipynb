{
 "cells": [
  {
   "cell_type": "code",
   "execution_count": 1,
   "metadata": {
    "collapsed": false,
    "scrolled": true
   },
   "outputs": [
    {
     "name": "stdout",
     "output_type": "stream",
     "text": [
      "Help on package punk:\n",
      "\n",
      "NAME\n",
      "    punk\n",
      "\n",
      "PACKAGE CONTENTS\n",
      "    feature_selection (package)\n",
      "    utils (package)\n",
      "\n",
      "DATA\n",
      "    __all__ = ['feature_selection', 'utils']\n",
      "\n",
      "VERSION\n",
      "    0.1.3dev1\n",
      "\n",
      "FILE\n",
      "    /home/alarcj/Documents/datasci/NewKnowledge/primitives_repo/CODE/examples/punk/__init__.py\n",
      "\n",
      "\n"
     ]
    }
   ],
   "source": [
    "import punk\n",
    "help(punk)"
   ]
  },
  {
   "cell_type": "code",
   "execution_count": 2,
   "metadata": {
    "collapsed": false
   },
   "outputs": [],
   "source": [
    "%matplotlib inline\n",
    "import matplotlib.pyplot as plt\n",
    "import pandas as pd\n",
    "import numpy as np\n",
    "\n",
    "from sklearn.model_selection import train_test_split\n",
    "\n",
    "from punk import feature_selection"
   ]
  },
  {
   "cell_type": "markdown",
   "metadata": {},
   "source": [
    "# Feature Selection for Classification Problems"
   ]
  },
  {
   "cell_type": "code",
   "execution_count": 3,
   "metadata": {
    "collapsed": false
   },
   "outputs": [],
   "source": [
    "df_wine = pd.read_csv('https://raw.githubusercontent.com/rasbt/'\n",
    "                      'python-machine-learning-book/master/code/datasets/wine/wine.data', \n",
    "                      header=None)    \n",
    "columns = np.array(['Alcohol', 'Malic acid', 'Ash',\n",
    "                    'Alcalinity of ash', 'Magnesium', 'Total phenols',\n",
    "                    'Flavanoids', 'Nonflavanoid phenols', 'Proanthocyanins',\n",
    "                    'Color intensity', 'Hue', 'OD280/OD315 of diluted wines',\n",
    "                    'Proline'])\n",
    "X, y = df_wine.iloc[:, 1:].values, df_wine.iloc[:, 0].values            \n",
    "X, _, y, _ = train_test_split(X, y, test_size=0.3, random_state=0)"
   ]
  },
  {
   "cell_type": "code",
   "execution_count": 4,
   "metadata": {
    "collapsed": false
   },
   "outputs": [
    {
     "name": "stdout",
     "output_type": "stream",
     "text": [
      "dict_keys(['indices', 'feature_importances'])\n",
      "CPU times: user 45 s, sys: 84 ms, total: 45.1 s\n",
      "Wall time: 45.6 s\n"
     ]
    }
   ],
   "source": [
    "%%time\n",
    "rfc = punk.feature_selection.rf.rfclassifier_feature_selection(X, y)\n",
    "print(rfc.keys())"
   ]
  },
  {
   "cell_type": "code",
   "execution_count": 7,
   "metadata": {
    "collapsed": false,
    "scrolled": false
   },
   "outputs": [
    {
     "name": "stdout",
     "output_type": "stream",
     "text": [
      " 1)        Color intensity         0.17600\n",
      " 2)            Proline             0.16426\n",
      " 3)           Flavanoids           0.14943\n",
      " 4)  OD280/OD315 of diluted wines  0.14081\n",
      " 5)            Alcohol             0.10759\n",
      " 6)              Hue               0.07522\n",
      " 7)         Total phenols          0.05475\n",
      " 8)       Alcalinity of ash        0.03159\n",
      " 9)           Malic acid           0.02552\n",
      "10)        Proanthocyanins         0.02376\n",
      "11)           Magnesium            0.02217\n",
      "12)      Nonflavanoid phenols      0.01659\n",
      "13)              Ash               0.01231\n"
     ]
    },
    {
     "data": {
      "image/png": "[encoded data removed]",
      "text/plain": [
       "<matplotlib.figure.Figure at 0x7ff4c0da4978>"
      ]
     },
     "metadata": {},
     "output_type": "display_data"
    }
   ],
   "source": [
    "feature_importances = rfc[\"feature_importances\"]\n",
    "feature_indices = rfc[\"indices\"]\n",
    "\n",
    "for i in range(len(columns)):\n",
    "    print(\"{:>2}) {:^30} {:.5f}\".format(i+1, \n",
    "                                        columns[feature_indices[i]],\n",
    "                                        feature_importances[feature_indices[i]]\n",
    "                                       ))\n",
    "    \n",
    "plt.figure(figsize=(8, 4))\n",
    "plt.title('Feature Importances')\n",
    "plt.bar(range(len(columns)), feature_importances[feature_indices], color='lightblue', align='center')\n",
    "\n",
    "plt.xticks(range(len(columns)), columns[feature_indices], rotation=90)\n",
    "plt.xlim([-1, len(columns)])\n",
    "plt.tight_layout()\n",
    "plt.savefig('./random_forest.png', dpi=300)\n",
    "plt.show()"
   ]
  },
  {
   "cell_type": "code",
   "execution_count": null,
   "metadata": {
    "collapsed": true
   },
   "outputs": [],
   "source": []
  }
 ],
 "metadata": {
  "kernelspec": {
   "display_name": "Python 3",
   "language": "python",
   "name": "python3"
  },
  "language_info": {
   "codemirror_mode": {
    "name": "ipython",
    "version": 3
   },
   "file_extension": ".py",
   "mimetype": "text/x-python",
   "name": "python",
   "nbconvert_exporter": "python",
   "pygments_lexer": "ipython3",
   "version": "3.6.1"
  }
 },
 "nbformat": 4,
 "nbformat_minor": 2
}
